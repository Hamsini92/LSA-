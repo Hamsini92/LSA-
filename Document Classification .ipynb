{
 "cells": [
  {
   "cell_type": "code",
   "execution_count": 1,
   "metadata": {
    "collapsed": true
   },
   "outputs": [],
   "source": [
    "doc1 = \"Document in datascience\"\n",
    "doc2 = \"Money fun family kids home\"\n",
    "doc3 = \"programming java datastructures\"\n",
    "doc4 = \"love food health games energy fun\"\n",
    "doc5 = \"Algorithms data computers\"\n",
    "doc_complete = [doc1,doc2,doc3,doc4]"
   ]
  },
  {
   "cell_type": "code",
   "execution_count": 2,
   "metadata": {},
   "outputs": [
    {
     "data": {
      "text/plain": [
       "['Document in datascience',\n",
       " 'Money fun family kids home',\n",
       " 'programming java datastructures',\n",
       " 'love food health games energy fun']"
      ]
     },
     "execution_count": 2,
     "metadata": {},
     "output_type": "execute_result"
    }
   ],
   "source": [
    "doc_complete"
   ]
  },
  {
   "cell_type": "code",
   "execution_count": 6,
   "metadata": {},
   "outputs": [],
   "source": [
    "from sklearn.feature_extraction.text import TfidfVectorizer\n",
    "vectorizer = TfidfVectorizer()"
   ]
  },
  {
   "cell_type": "code",
   "execution_count": 7,
   "metadata": {
    "collapsed": true
   },
   "outputs": [],
   "source": [
    "X =vectorizer.fit_transform(doc_complete)"
   ]
  },
  {
   "cell_type": "code",
   "execution_count": 9,
   "metadata": {},
   "outputs": [
    {
     "name": "stdout",
     "output_type": "stream",
     "text": [
      "  (0, 2)\t0.5773502691896257\n",
      "  (0, 10)\t0.5773502691896257\n",
      "  (0, 0)\t0.5773502691896257\n",
      "  (1, 14)\t0.4651619335222394\n",
      "  (1, 6)\t0.3667390112974172\n",
      "  (1, 4)\t0.4651619335222394\n",
      "  (1, 12)\t0.4651619335222394\n",
      "  (1, 9)\t0.4651619335222394\n",
      "  (2, 15)\t0.5773502691896257\n",
      "  (2, 11)\t0.5773502691896257\n",
      "  (2, 1)\t0.5773502691896257\n",
      "  (3, 6)\t0.3325241986862672\n",
      "  (3, 13)\t0.4217647821447532\n",
      "  (3, 5)\t0.4217647821447532\n",
      "  (3, 8)\t0.4217647821447532\n",
      "  (3, 7)\t0.4217647821447532\n",
      "  (3, 3)\t0.4217647821447532\n"
     ]
    }
   ],
   "source": [
    "print(X)"
   ]
  },
  {
   "cell_type": "code",
   "execution_count": 10,
   "metadata": {
    "collapsed": true
   },
   "outputs": [],
   "source": [
    "from sklearn.decomposition import TruncatedSVD\n",
    "lsa = TruncatedSVD(n_components=2,n_iter=100)"
   ]
  },
  {
   "cell_type": "code",
   "execution_count": 11,
   "metadata": {},
   "outputs": [
    {
     "data": {
      "text/plain": [
       "TruncatedSVD(algorithm='randomized', n_components=2, n_iter=100,\n",
       "       random_state=None, tol=0.0)"
      ]
     },
     "execution_count": 11,
     "metadata": {},
     "output_type": "execute_result"
    }
   ],
   "source": [
    "lsa.fit(X)"
   ]
  },
  {
   "cell_type": "code",
   "execution_count": 12,
   "metadata": {
    "collapsed": true
   },
   "outputs": [],
   "source": [
    "terms = vectorizer.get_feature_names()"
   ]
  },
  {
   "cell_type": "code",
   "execution_count": 20,
   "metadata": {},
   "outputs": [
    {
     "name": "stdout",
     "output_type": "stream",
     "text": [
      "Concept 0:\n",
      "fun\n",
      " \n",
      "family\n",
      " \n",
      "home\n",
      " \n",
      "kids\n",
      " \n",
      "money\n",
      " \n",
      "energy\n",
      " \n",
      "food\n",
      " \n",
      "games\n",
      " \n",
      "health\n",
      " \n",
      "love\n",
      " \n",
      "Concept 1:\n",
      "datascience\n",
      " \n",
      "document\n",
      " \n",
      "in\n",
      " \n",
      "java\n",
      " \n",
      "programming\n",
      " \n",
      "datastructures\n",
      " \n",
      "food\n",
      " \n",
      "games\n",
      " \n",
      "health\n",
      " \n",
      "love\n",
      " \n"
     ]
    }
   ],
   "source": [
    "for i,comp in enumerate(lsa.components_):\n",
    "     termsInComp = zip(terms,comp)\n",
    "     sortedterms = sorted(termsInComp, key=lambda x: x[1],reverse=True)[:10]\n",
    "     print(\"Concept %d:\" % i)\n",
    "     for term in sortedterms:\n",
    "            print(term[0])\n",
    "            print(\" \")"
   ]
  },
  {
   "cell_type": "code",
   "execution_count": null,
   "metadata": {
    "collapsed": true
   },
   "outputs": [],
   "source": []
  },
  {
   "cell_type": "code",
   "execution_count": null,
   "metadata": {
    "collapsed": true
   },
   "outputs": [],
   "source": []
  }
 ],
 "metadata": {
  "kernelspec": {
   "display_name": "Python 3",
   "language": "python",
   "name": "python3"
  },
  "language_info": {
   "codemirror_mode": {
    "name": "ipython",
    "version": 3
   },
   "file_extension": ".py",
   "mimetype": "text/x-python",
   "name": "python",
   "nbconvert_exporter": "python",
   "pygments_lexer": "ipython3",
   "version": "3.6.3"
  }
 },
 "nbformat": 4,
 "nbformat_minor": 2
}
